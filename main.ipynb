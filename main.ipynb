{
 "cells": [
  {
   "cell_type": "markdown",
   "metadata": {},
   "source": [
    "# IMPORTING LIBRARIES"
   ]
  },
  {
   "cell_type": "code",
   "execution_count": 15,
   "metadata": {},
   "outputs": [],
   "source": [
    "import pandas as pd\n",
    "import numpy as np\n",
    "import time\n",
    "from scipy import speci#al\n"
   ]
  },
  {
   "cell_type": "markdown",
   "metadata": {},
   "source": [
    "# LOADING DATA AND GETTING FEEL ABOUT DATA SET STRUCTURE"
   ]
  },
  {
   "cell_type": "code",
   "execution_count": 16,
   "metadata": {},
   "outputs": [
    {
     "data": {
      "text/html": [
       "<div>\n",
       "<style scoped>\n",
       "    .dataframe tbody tr th:only-of-type {\n",
       "        vertical-align: middle;\n",
       "    }\n",
       "\n",
       "    .dataframe tbody tr th {\n",
       "        vertical-align: top;\n",
       "    }\n",
       "\n",
       "    .dataframe thead th {\n",
       "        text-align: right;\n",
       "    }\n",
       "</style>\n",
       "<table border=\"1\" class=\"dataframe\">\n",
       "  <thead>\n",
       "    <tr style=\"text-align: right;\">\n",
       "      <th></th>\n",
       "      <th>WaveletVariance</th>\n",
       "      <th>WaveletSkewness</th>\n",
       "      <th>WaveletCurtosis</th>\n",
       "      <th>Entropy</th>\n",
       "      <th>Class</th>\n",
       "    </tr>\n",
       "  </thead>\n",
       "  <tbody>\n",
       "    <tr>\n",
       "      <th>0</th>\n",
       "      <td>3.62160</td>\n",
       "      <td>8.6661</td>\n",
       "      <td>-2.8073</td>\n",
       "      <td>-0.44699</td>\n",
       "      <td>0</td>\n",
       "    </tr>\n",
       "    <tr>\n",
       "      <th>1</th>\n",
       "      <td>4.54590</td>\n",
       "      <td>8.1674</td>\n",
       "      <td>-2.4586</td>\n",
       "      <td>-1.46210</td>\n",
       "      <td>0</td>\n",
       "    </tr>\n",
       "    <tr>\n",
       "      <th>2</th>\n",
       "      <td>3.86600</td>\n",
       "      <td>-2.6383</td>\n",
       "      <td>1.9242</td>\n",
       "      <td>0.10645</td>\n",
       "      <td>0</td>\n",
       "    </tr>\n",
       "    <tr>\n",
       "      <th>3</th>\n",
       "      <td>3.45660</td>\n",
       "      <td>9.5228</td>\n",
       "      <td>-4.0112</td>\n",
       "      <td>-3.59440</td>\n",
       "      <td>0</td>\n",
       "    </tr>\n",
       "    <tr>\n",
       "      <th>4</th>\n",
       "      <td>0.32924</td>\n",
       "      <td>-4.4552</td>\n",
       "      <td>4.5718</td>\n",
       "      <td>-0.98880</td>\n",
       "      <td>0</td>\n",
       "    </tr>\n",
       "  </tbody>\n",
       "</table>\n",
       "</div>"
      ],
      "text/plain": [
       "   WaveletVariance  WaveletSkewness  WaveletCurtosis  Entropy  Class\n",
       "0          3.62160           8.6661          -2.8073 -0.44699      0\n",
       "1          4.54590           8.1674          -2.4586 -1.46210      0\n",
       "2          3.86600          -2.6383           1.9242  0.10645      0\n",
       "3          3.45660           9.5228          -4.0112 -3.59440      0\n",
       "4          0.32924          -4.4552           4.5718 -0.98880      0"
      ]
     },
     "execution_count": 16,
     "metadata": {},
     "output_type": "execute_result"
    }
   ],
   "source": [
    "df = pd.read_csv('data_banknote_authentication.txt')\n",
    "df.head(5)"
   ]
  },
  {
   "cell_type": "markdown",
   "metadata": {},
   "source": [
    "# DEVIDING DATA INTO 'X = INPUT FEATURES' AND 'y=CLASS ATTRIBUTE'"
   ]
  },
  {
   "cell_type": "code",
   "execution_count": 23,
   "metadata": {},
   "outputs": [
    {
     "name": "stdout",
     "output_type": "stream",
     "text": [
      "y shape:  (1372,)\n"
     ]
    },
    {
     "data": {
      "image/png": "[encoded data removed]",
      "text/plain": [
       "<Figure size 432x288 with 1 Axes>"
      ]
     },
     "metadata": {
      "needs_background": "light"
     },
     "output_type": "display_data"
    },
    {
     "name": "stdout",
     "output_type": "stream",
     "text": [
      "(4, 1372)\n",
      "[[  3.6216    4.5459    3.866   ...  -3.7503   -3.5637   -2.5419 ]\n",
      " [  8.6661    8.1674   -2.6383  ... -13.4586   -8.3827   -0.65804]\n",
      " [ -2.8073   -2.4586    1.9242  ...  17.5932   12.393     2.6842 ]\n",
      " [ -0.44699  -1.4621    0.10645 ...  -2.7771   -1.2823    1.1952 ]]\n",
      "[0 0 0 ... 1 1 1]\n"
     ]
    }
   ],
   "source": [
    "y = np.array(df['Class'])\n",
    "print(\"y shape: \", y.shape)\n",
    "X = np.array(df.iloc[:, :-1])\n",
    "from matplotlib import pyplot as plt\n",
    "from numpy import where\n",
    "for i in range(2):\n",
    "\tsamples_ix = where(y == i)\n",
    "\tplt.scatter(X[samples_ix, 0], X[samples_ix, 1], label=str(i))\n",
    "plt.legend()\n",
    "plt.show()\n",
    "# Transposing our Features for later use\n",
    "X = X.T\n",
    "print(X.shape)\n",
    "\n",
    "print(X)\n",
    "print(y)"
   ]
  },
  {
   "cell_type": "markdown",
   "metadata": {},
   "source": [
    "# MAKING HYPERPARAMETERS CONFIGURABLE"
   ]
  },
  {
   "cell_type": "code",
   "execution_count": 18,
   "metadata": {},
   "outputs": [],
   "source": [
    "# configuring hyperparameters\n",
    "\n",
    "def process_input(prompt, type, list=[]):\n",
    "    while True:\n",
    "        if(type == 'int'):\n",
    "            try:\n",
    "                value = int(input(prompt))\n",
    "                break\n",
    "            except ValueError:\n",
    "                print(\"Please enter only integer\")\n",
    "                continue\n",
    "        else:\n",
    "            if list:\n",
    "                print(list)\n",
    "                value = input(prompt).lower()\n",
    "                print(\"value = \", value)\n",
    "                if value not in list:\n",
    "                    print(\"Please enter only one of these: {}\".format(list))\n",
    "                    continue\n",
    "                else:\n",
    "                    break\n",
    "            else:\n",
    "                value = input(prompt)\n",
    "                break\n",
    "    return value"
   ]
  },
  {
   "cell_type": "code",
   "execution_count": 19,
   "metadata": {},
   "outputs": [
    {
     "name": "stdout",
     "output_type": "stream",
     "text": [
      "['sigmoid', 'relu', 'tanh']\n",
      "value =  relu\n",
      "user selected:  relu\n",
      "['sigmoid', 'relu', 'tanh']\n",
      "value =  sigmoid\n"
     ]
    }
   ],
   "source": [
    "# \n",
    "hidden_layer_len = process_input(\"Please enter number of hidden layers:\", 'int')\n",
    "\n",
    "hidden_layers = []\n",
    "for i in range(int(hidden_layer_len)):\n",
    "    neuron_len = process_input(\"Enter number of neurons in hidden layer: h{}\".format(i+1), 'int')\n",
    "    hidden_layers.append(neuron_len)\n",
    "\n",
    "activation_fn_hidd = process_input(\"Please choose activation function for the hidden layer\"+\n",
    "                            \"\\nAvailable Activations: [sigmoid, relu, tanh]\", 'string', ['sigmoid', 'relu', 'tanh'])\n",
    "print(\"user selected: \", activation_fn_hidd)\n",
    "activation_fn_hidd = activation_fn_hidd.lower()\n",
    "\n",
    "activation_fn_output = process_input(\"Please choose activation function for the output layer \"+\n",
    "                            \"\\nAvailable Activations: [sigmoid, tanh]\", 'string', ['sigmoid', 'tanh'])\n",
    "activation_fn_output = activation_fn_output.lower()\n",
    "\n",
    "activation_fns = [activation_fn_hidd, activation_fn_output]\n",
    "\n",
    "epochs = process_input(\"Enter number of epochs:\", 'int')\n",
    "learning_rate = process_input(\"Enter learning rate:\", 'float')"
   ]
  },
  {
   "cell_type": "markdown",
   "metadata": {},
   "source": [
    "# LOADING MLP Class \n",
    "This class will construct our NN, initiate hyperparameters and train our NN"
   ]
  },
  {
   "cell_type": "code",
   "execution_count": 20,
   "metadata": {},
   "outputs": [
    {
     "name": "stdout",
     "output_type": "stream",
     "text": [
      "w1 shape is (4, 20)\n",
      "b1 shape is (20, 1)\n",
      "w2 shape is (20, 8)\n",
      "b2 shape is (8, 1)\n",
      "w3 shape is (8, 1)\n",
      "b3 shape is (1, 1)\n",
      "dw1 shape is (4, 20)\n",
      "db1 shape is (20, 1)\n",
      "dw2 shape is (20, 8)\n",
      "db2 shape is (8, 1)\n",
      "dw3 shape is (8, 1)\n",
      "db3 shape is (1, 1)\n",
      "####################################################################################################\n",
      "\n",
      "Cost for epoch 0 is 0.7380107960279809\n",
      "Applying derivative of activation fun relu for A3\n",
      "Applying derivative of activation fun relu for A2\n",
      "Applying derivative of activation fun relu for A1\n",
      "No. of correct predictions:  632\n",
      "Accuracy for epoch 0 = 46.06%\n",
      "\n",
      "Cost for epoch 1 is 0.688384246600675\n",
      "Applying derivative of activation fun relu for A3\n",
      "Applying derivative of activation fun relu for A2\n",
      "Applying derivative of activation fun relu for A1\n",
      "No. of correct predictions:  769\n",
      "Accuracy for epoch 1 = 56.05%\n",
      "\n",
      "Cost for epoch 2 is 0.6549248705014155\n",
      "Applying derivative of activation fun relu for A3\n",
      "Applying derivative of activation fun relu for A2\n",
      "Applying derivative of activation fun relu for A1\n",
      "No. of correct predictions:  829\n",
      "Accuracy for epoch 2 = 60.42%\n",
      "\n",
      "Cost for epoch 3 is 0.628764327230739\n",
      "Applying derivative of activation fun relu for A3\n",
      "Applying derivative of activation fun relu for A2\n",
      "Applying derivative of activation fun relu for A1\n",
      "No. of correct predictions:  854\n",
      "Accuracy for epoch 3 = 62.24%\n",
      "\n",
      "Cost for epoch 4 is 0.6067605713479827\n",
      "Applying derivative of activation fun relu for A3\n",
      "Applying derivative of activation fun relu for A2\n",
      "Applying derivative of activation fun relu for A1\n",
      "No. of correct predictions:  885\n",
      "Accuracy for epoch 4 = 64.50%\n",
      "\n",
      "Cost for epoch 5 is 0.587360530543209\n",
      "Applying derivative of activation fun relu for A3\n",
      "Applying derivative of activation fun relu for A2\n",
      "Applying derivative of activation fun relu for A1\n",
      "No. of correct predictions:  920\n",
      "Accuracy for epoch 5 = 67.06%\n",
      "\n",
      "Cost for epoch 6 is 0.5694316329755083\n",
      "Applying derivative of activation fun relu for A3\n",
      "Applying derivative of activation fun relu for A2\n",
      "Applying derivative of activation fun relu for A1\n",
      "No. of correct predictions:  956\n",
      "Accuracy for epoch 6 = 69.68%\n",
      "\n",
      "Cost for epoch 7 is 0.5524650432130468\n",
      "Applying derivative of activation fun relu for A3\n",
      "Applying derivative of activation fun relu for A2\n",
      "Applying derivative of activation fun relu for A1\n",
      "No. of correct predictions:  990\n",
      "Accuracy for epoch 7 = 72.16%\n",
      "\n",
      "Cost for epoch 8 is 0.5362025767724075\n",
      "Applying derivative of activation fun relu for A3\n",
      "Applying derivative of activation fun relu for A2\n",
      "Applying derivative of activation fun relu for A1\n",
      "No. of correct predictions:  1018\n",
      "Accuracy for epoch 8 = 74.20%\n",
      "\n",
      "Cost for epoch 9 is 0.520445727884806\n",
      "Applying derivative of activation fun relu for A3\n",
      "Applying derivative of activation fun relu for A2\n",
      "Applying derivative of activation fun relu for A1\n",
      "No. of correct predictions:  1037\n",
      "Accuracy for epoch 9 = 75.58%\n",
      "\n",
      "Cost for epoch 10 is 0.5050168940129879\n",
      "Applying derivative of activation fun relu for A3\n",
      "Applying derivative of activation fun relu for A2\n",
      "Applying derivative of activation fun relu for A1\n",
      "No. of correct predictions:  1054\n",
      "Accuracy for epoch 10 = 76.82%\n",
      "\n",
      "Cost for epoch 11 is 0.4898520312160856\n",
      "Applying derivative of activation fun relu for A3\n",
      "Applying derivative of activation fun relu for A2\n",
      "Applying derivative of activation fun relu for A1\n",
      "No. of correct predictions:  1066\n",
      "Accuracy for epoch 11 = 77.70%\n",
      "\n",
      "Cost for epoch 12 is 0.4749822853783508\n",
      "Applying derivative of activation fun relu for A3\n",
      "Applying derivative of activation fun relu for A2\n",
      "Applying derivative of activation fun relu for A1\n",
      "No. of correct predictions:  1086\n",
      "Accuracy for epoch 12 = 79.15%\n",
      "\n",
      "Cost for epoch 13 is 0.4602610448417804\n",
      "Applying derivative of activation fun relu for A3\n",
      "Applying derivative of activation fun relu for A2\n",
      "Applying derivative of activation fun relu for A1\n",
      "No. of correct predictions:  1096\n",
      "Accuracy for epoch 13 = 79.88%\n",
      "\n",
      "Cost for epoch 14 is 0.44546374619006673\n",
      "Applying derivative of activation fun relu for A3\n",
      "Applying derivative of activation fun relu for A2\n",
      "Applying derivative of activation fun relu for A1\n",
      "No. of correct predictions:  1107\n",
      "Accuracy for epoch 14 = 80.69%\n",
      "\n",
      "Cost for epoch 15 is 0.43063173859370546\n",
      "Applying derivative of activation fun relu for A3\n",
      "Applying derivative of activation fun relu for A2\n",
      "Applying derivative of activation fun relu for A1\n",
      "No. of correct predictions:  1120\n",
      "Accuracy for epoch 15 = 81.63%\n",
      "\n",
      "Cost for epoch 16 is 0.4158891899359312\n",
      "Applying derivative of activation fun relu for A3\n",
      "Applying derivative of activation fun relu for A2\n",
      "Applying derivative of activation fun relu for A1\n",
      "No. of correct predictions:  1138\n",
      "Accuracy for epoch 16 = 82.94%\n",
      "\n",
      "Cost for epoch 17 is 0.4013436031731113\n",
      "Applying derivative of activation fun relu for A3\n",
      "Applying derivative of activation fun relu for A2\n",
      "Applying derivative of activation fun relu for A1\n",
      "No. of correct predictions:  1143\n",
      "Accuracy for epoch 17 = 83.31%\n",
      "\n",
      "Cost for epoch 18 is 0.3868551060847871\n",
      "Applying derivative of activation fun relu for A3\n",
      "Applying derivative of activation fun relu for A2\n",
      "Applying derivative of activation fun relu for A1\n",
      "No. of correct predictions:  1147\n",
      "Accuracy for epoch 18 = 83.60%\n",
      "\n",
      "Cost for epoch 19 is 0.3722941030305137\n",
      "Applying derivative of activation fun relu for A3\n",
      "Applying derivative of activation fun relu for A2\n",
      "Applying derivative of activation fun relu for A1\n",
      "No. of correct predictions:  1158\n",
      "Accuracy for epoch 19 = 84.40%\n",
      "\n",
      "Cost for epoch 20 is 0.3579510755614462\n",
      "Applying derivative of activation fun relu for A3\n",
      "Applying derivative of activation fun relu for A2\n",
      "Applying derivative of activation fun relu for A1\n",
      "No. of correct predictions:  1164\n",
      "Accuracy for epoch 20 = 84.84%\n",
      "\n",
      "Cost for epoch 21 is 0.34371010269195346\n",
      "Applying derivative of activation fun relu for A3\n",
      "Applying derivative of activation fun relu for A2\n",
      "Applying derivative of activation fun relu for A1\n",
      "No. of correct predictions:  1179\n",
      "Accuracy for epoch 21 = 85.93%\n",
      "\n",
      "Cost for epoch 22 is 0.32910218747874054\n",
      "Applying derivative of activation fun relu for A3\n",
      "Applying derivative of activation fun relu for A2\n",
      "Applying derivative of activation fun relu for A1\n",
      "No. of correct predictions:  1192\n",
      "Accuracy for epoch 22 = 86.88%\n",
      "\n",
      "Cost for epoch 23 is 0.31412553395527837\n",
      "Applying derivative of activation fun relu for A3\n",
      "Applying derivative of activation fun relu for A2\n",
      "Applying derivative of activation fun relu for A1\n",
      "No. of correct predictions:  1202\n",
      "Accuracy for epoch 23 = 87.61%\n",
      "\n",
      "Cost for epoch 24 is 0.2993134950867157\n",
      "Applying derivative of activation fun relu for A3\n",
      "Applying derivative of activation fun relu for A2\n",
      "Applying derivative of activation fun relu for A1\n",
      "No. of correct predictions:  1228\n",
      "Accuracy for epoch 24 = 89.50%\n",
      "\n",
      "Cost for epoch 25 is 0.2854715992038242\n",
      "Applying derivative of activation fun relu for A3\n",
      "Applying derivative of activation fun relu for A2\n",
      "Applying derivative of activation fun relu for A1\n",
      "No. of correct predictions:  1243\n",
      "Accuracy for epoch 25 = 90.60%\n",
      "\n",
      "Cost for epoch 26 is 0.2725470687022314\n",
      "Applying derivative of activation fun relu for A3\n",
      "Applying derivative of activation fun relu for A2\n",
      "Applying derivative of activation fun relu for A1\n",
      "No. of correct predictions:  1253\n",
      "Accuracy for epoch 26 = 91.33%\n",
      "\n",
      "Cost for epoch 27 is 0.2604599323497297\n",
      "Applying derivative of activation fun relu for A3\n",
      "Applying derivative of activation fun relu for A2\n",
      "Applying derivative of activation fun relu for A1\n",
      "No. of correct predictions:  1257\n",
      "Accuracy for epoch 27 = 91.62%\n",
      "\n",
      "Cost for epoch 28 is 0.2492846611631562\n",
      "Applying derivative of activation fun relu for A3\n",
      "Applying derivative of activation fun relu for A2\n",
      "Applying derivative of activation fun relu for A1\n",
      "No. of correct predictions:  1266\n",
      "Accuracy for epoch 28 = 92.27%\n",
      "\n",
      "Cost for epoch 29 is 0.23866796183524663\n",
      "Applying derivative of activation fun relu for A3\n",
      "Applying derivative of activation fun relu for A2\n",
      "Applying derivative of activation fun relu for A1\n",
      "No. of correct predictions:  1279\n",
      "Accuracy for epoch 29 = 93.22%\n",
      "\n",
      "Cost for epoch 30 is 0.2288790954003143\n",
      "Applying derivative of activation fun relu for A3\n",
      "Applying derivative of activation fun relu for A2\n",
      "Applying derivative of activation fun relu for A1\n",
      "No. of correct predictions:  1281\n",
      "Accuracy for epoch 30 = 93.37%\n",
      "\n",
      "Cost for epoch 31 is 0.21992390948923207\n",
      "Applying derivative of activation fun relu for A3\n",
      "Applying derivative of activation fun relu for A2\n",
      "Applying derivative of activation fun relu for A1\n",
      "No. of correct predictions:  1284\n",
      "Accuracy for epoch 31 = 93.59%\n",
      "\n",
      "Cost for epoch 32 is 0.21163275298949033\n",
      "Applying derivative of activation fun relu for A3\n",
      "Applying derivative of activation fun relu for A2\n",
      "Applying derivative of activation fun relu for A1\n",
      "No. of correct predictions:  1289\n",
      "Accuracy for epoch 32 = 93.95%\n",
      "\n",
      "Cost for epoch 33 is 0.20397921207635528\n",
      "Applying derivative of activation fun relu for A3\n",
      "Applying derivative of activation fun relu for A2\n",
      "Applying derivative of activation fun relu for A1\n",
      "No. of correct predictions:  1292\n",
      "Accuracy for epoch 33 = 94.17%\n",
      "\n",
      "Cost for epoch 34 is 0.19690829461447942\n",
      "Applying derivative of activation fun relu for A3\n",
      "Applying derivative of activation fun relu for A2\n",
      "Applying derivative of activation fun relu for A1\n",
      "No. of correct predictions:  1298\n",
      "Accuracy for epoch 34 = 94.61%\n",
      "====================================================================================================\n",
      "Time elapsed for one iteration over the whole dataset  0.22966432571411133\n",
      "Number of hidden layers is 2\n",
      "Number of neurons in hidden layer 1, is 20\n",
      "Number of neurons in hidden layer 2, is 8\n",
      "Activation function for hidden layers: relu and for output layer: sigmoid\n",
      "Final cost for epoch 34 = 0.20%\n",
      "Final Accuracy for epoch 34 = 80.62%\n"
     ]
    },
    {
     "data": {
      "image/png": "[encoded data removed]",
      "text/plain": [
       "<Figure size 432x288 with 1 Axes>"
      ]
     },
     "metadata": {
      "needs_background": "light"
     },
     "output_type": "display_data"
    },
    {
     "data": {
      "image/png": "[encoded data removed]",
      "text/plain": [
       "<Figure size 432x288 with 1 Axes>"
      ]
     },
     "metadata": {
      "needs_background": "light"
     },
     "output_type": "display_data"
    }
   ],
   "source": [
    "# training our model\n",
    "from MLP import MultilayerPerceptronNW\n",
    "mlp = MultilayerPerceptronNW(4, hidden_layers, 1, activation_type=activation_fns)\n",
    "\n",
    "mlp.train_mlp(X,y,int(epochs),float(learning_rate))\n"
   ]
  },
  {
   "cell_type": "markdown",
   "metadata": {},
   "source": [
    "# VISUALIZING OUR MLP"
   ]
  },
  {
   "cell_type": "code",
   "execution_count": 21,
   "metadata": {},
   "outputs": [
    {
     "data": {
      "image/png": "[encoded data removed]",
      "text/plain": [
       "<Figure size 432x288 with 1 Axes>"
      ]
     },
     "metadata": {
      "needs_background": "light"
     },
     "output_type": "display_data"
    }
   ],
   "source": [
    "# Drawing our MLP Network\n",
    "\n",
    "# visualize our neural network\n",
    "from DrawNN import DrawNN\n",
    "layers = [4] + hidden_layers + [1]\n",
    "network = DrawNN(layers)\n",
    "network.draw()\n"
   ]
  }
 ],
 "metadata": {
  "interpreter": {
   "hash": "38d51dd8e8d25c2b4859ddf5fde4d8615b38902fd48d30a19bf46ddb81d406a6"
  },
  "kernelspec": {
   "display_name": "Python 3 (ipykernel)",
   "language": "python",
   "name": "python3"
  },
  "language_info": {
   "codemirror_mode": {
    "name": "ipython",
    "version": 3
   },
   "file_extension": ".py",
   "mimetype": "text/x-python",
   "name": "python",
   "nbconvert_exporter": "python",
   "pygments_lexer": "ipython3",
   "version": "3.9.7"
  }
 },
 "nbformat": 4,
 "nbformat_minor": 2
}
